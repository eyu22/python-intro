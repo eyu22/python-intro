{
  "nbformat": 4,
  "nbformat_minor": 0,
  "metadata": {
    "kernelspec": {
      "display_name": "Python 3",
      "language": "python",
      "name": "python3"
    },
    "language_info": {
      "codemirror_mode": {
        "name": "ipython",
        "version": 3
      },
      "file_extension": ".py",
      "mimetype": "text/x-python",
      "name": "python",
      "nbconvert_exporter": "python",
      "pygments_lexer": "ipython3",
      "version": "3.7.7"
    },
    "colab": {
      "name": "PythonBasics.ipynb",
      "provenance": []
    }
  },
  "cells": [
    {
      "cell_type": "markdown",
      "metadata": {
        "id": "HUbeBkUc9-kM",
        "colab_type": "text"
      },
      "source": [
        "Python Intro!\n",
        "\n",
        "This short notebook will show you some of the basics of python."
      ]
    },
    {
      "cell_type": "markdown",
      "metadata": {
        "id": "IKa1t2AB9-kO",
        "colab_type": "text"
      },
      "source": [
        "Creating a variable that holds the integer 5"
      ]
    },
    {
      "cell_type": "code",
      "metadata": {
        "id": "mJorPGzP9-kQ",
        "colab_type": "code",
        "colab": {}
      },
      "source": [
        "variable = 5\n",
        "print(variable)"
      ],
      "execution_count": 0,
      "outputs": []
    },
    {
      "cell_type": "markdown",
      "metadata": {
        "id": "B7K4i8YP9-kX",
        "colab_type": "text"
      },
      "source": [
        "Checking the type of the variable, this will show that the variable is an integer"
      ]
    },
    {
      "cell_type": "code",
      "metadata": {
        "id": "jf4D7aUT9-kY",
        "colab_type": "code",
        "colab": {}
      },
      "source": [
        "print(type(variable))"
      ],
      "execution_count": 0,
      "outputs": []
    },
    {
      "cell_type": "markdown",
      "metadata": {
        "id": "50HWD_nd9-ke",
        "colab_type": "text"
      },
      "source": [
        "Next we will check some other data types that are commonly used in python"
      ]
    },
    {
      "cell_type": "code",
      "metadata": {
        "id": "KAAK9gjW9-ki",
        "colab_type": "code",
        "colab": {}
      },
      "source": [
        "integer = 7\n",
        "floatingPoint = 2.5\n",
        "string = 'hello world'\n",
        "boolean = True\n",
        "lists = [3,1,4,1,5,9,2,6]\n",
        "dictionary = {\n",
        "    'key':'value'\n",
        "}"
      ],
      "execution_count": 0,
      "outputs": []
    },
    {
      "cell_type": "code",
      "metadata": {
        "id": "_f-2vm_O9-kp",
        "colab_type": "code",
        "colab": {}
      },
      "source": [
        "print(type(integer))\n",
        "print(type(floatingPoint))\n",
        "print(type(string))\n",
        "print(type(boolean))\n",
        "print(type(lists))\n",
        "print(type(dictionary))"
      ],
      "execution_count": 0,
      "outputs": []
    },
    {
      "cell_type": "markdown",
      "metadata": {
        "id": "sPaFfqZh9-ks",
        "colab_type": "text"
      },
      "source": [
        "Integers are all numbers that are not decimals excluding imaginary or complex and Floats are all numbers excluding imaginary or complex. All integers can be floats but not all floats can be integers unless they are rounded."
      ]
    },
    {
      "cell_type": "markdown",
      "metadata": {
        "id": "7QbMuSyF9-ku",
        "colab_type": "text"
      },
      "source": [
        "Here is code showing how integers and floats can be used and changed to the opposite:"
      ]
    },
    {
      "cell_type": "markdown",
      "metadata": {
        "id": "32lP90Pj9-kv",
        "colab_type": "text"
      },
      "source": [
        "Import math module"
      ]
    },
    {
      "cell_type": "code",
      "metadata": {
        "id": "FcTXVGPF9-kw",
        "colab_type": "code",
        "colab": {}
      },
      "source": [
        "import math"
      ],
      "execution_count": 0,
      "outputs": []
    },
    {
      "cell_type": "markdown",
      "metadata": {
        "id": "gv6ovT7U9-k0",
        "colab_type": "text"
      },
      "source": [
        "Create an integer and float variable"
      ]
    },
    {
      "cell_type": "code",
      "metadata": {
        "id": "LIkAKlvt9-k1",
        "colab_type": "code",
        "colab": {}
      },
      "source": [
        "integer = 99\n",
        "floatVersion = float(integer)\n",
        "print(integer)\n",
        "print(floatVersion)"
      ],
      "execution_count": 0,
      "outputs": []
    },
    {
      "cell_type": "markdown",
      "metadata": {
        "id": "bfCT4CYN9-k5",
        "colab_type": "text"
      },
      "source": [
        "Check if the floats are integers"
      ]
    },
    {
      "cell_type": "code",
      "metadata": {
        "id": "zXCMwOzO9-k6",
        "colab_type": "code",
        "colab": {}
      },
      "source": [
        "if floatVersion.is_integer():\n",
        "    print('This float is an int!')\n",
        "else:\n",
        "    print('This float is not an int')\n",
        "\n",
        "otherVar = 35.3521\n",
        "    \n",
        "if otherVar.is_integer():\n",
        "    print('This float is an int!')\n",
        "else:\n",
        "    print('This float is not an int')"
      ],
      "execution_count": 0,
      "outputs": []
    },
    {
      "cell_type": "markdown",
      "metadata": {
        "id": "-MWd6BIO9-k-",
        "colab_type": "text"
      },
      "source": [
        "Convert floats to ints in 4 different methods"
      ]
    },
    {
      "cell_type": "code",
      "metadata": {
        "id": "7Y4E55Sy9-k_",
        "colab_type": "code",
        "colab": {}
      },
      "source": [
        "print(int(657.99999))\n",
        "print(round(657.9999))\n",
        "\n",
        "print(math.ceil(124.5))\n",
        "print(math.floor(124.5))"
      ],
      "execution_count": 0,
      "outputs": []
    },
    {
      "cell_type": "markdown",
      "metadata": {
        "id": "L6ubZrZY9-lC",
        "colab_type": "text"
      },
      "source": [
        "Next is some code on strings"
      ]
    },
    {
      "cell_type": "markdown",
      "metadata": {
        "id": "KfY89v3F9-lC",
        "colab_type": "text"
      },
      "source": [
        "Substrings/Slicing strings"
      ]
    },
    {
      "cell_type": "code",
      "metadata": {
        "id": "pq43lFy-9-lD",
        "colab_type": "code",
        "colab": {}
      },
      "source": [
        "string = 'Hello World'\n",
        "# printing from the second to fourth character excluding the fourth character\n",
        "print(string[2:4])\n",
        "# printing every other character\n",
        "print(string[::2])\n",
        "# reviersing the string\n",
        "print(string[::-1])"
      ],
      "execution_count": 0,
      "outputs": []
    },
    {
      "cell_type": "markdown",
      "metadata": {
        "id": "5Ss-GQyw9-lG",
        "colab_type": "text"
      },
      "source": [
        "converting items to strings"
      ]
    },
    {
      "cell_type": "code",
      "metadata": {
        "id": "5-6uI5O49-lG",
        "colab_type": "code",
        "colab": {}
      },
      "source": [
        "print(type(str(5453364)))\n",
        "print(str(5453364))\n",
        "print(str(987.87))"
      ],
      "execution_count": 0,
      "outputs": []
    },
    {
      "cell_type": "markdown",
      "metadata": {
        "id": "zm2eiWm4-sqa",
        "colab_type": "text"
      },
      "source": [
        "Calling methods"
      ]
    },
    {
      "cell_type": "code",
      "metadata": {
        "id": "hPbFj-99-Ukk",
        "colab_type": "code",
        "colab": {}
      },
      "source": [
        "# This is a function\n",
        "def exponent(base, power):\n",
        "\n",
        "  # another cool trick that python has is ** which is the operation to do exponents\n",
        "  ex = base ** power\n",
        "\n",
        "  # every function has a return statement,\n",
        "  # sometimes you don't need to type out return\n",
        "  # because you're not returning anything\n",
        "  return ex\n",
        "\n",
        "# this is where we call a function to run a piece of code\n",
        "# whenever we need to use it\n",
        "answer = exponent(2, 10)\n",
        "answer"
      ],
      "execution_count": 0,
      "outputs": []
    },
    {
      "cell_type": "markdown",
      "metadata": {
        "id": "2I2xseoPCr4s",
        "colab_type": "text"
      },
      "source": [
        "Making classes (the blueprint for objects)\n"
      ]
    },
    {
      "cell_type": "code",
      "metadata": {
        "id": "xuKfuvoG_Ws1",
        "colab_type": "code",
        "colab": {}
      },
      "source": [
        "# Car\n",
        "class Automobile(object):\n",
        "\n",
        "  # the init has parameters so that\n",
        "  # we can set values of the class on our own\n",
        "  # python will require that we use the 'self'\n",
        "  # syntax, a special symbol \n",
        "  def __init__(self, num_wheels, color, max_speed, acceleration):\n",
        "\n",
        "    # this is where we set the properties of a class\n",
        "    # which in this case is the properties for a car\n",
        "    # the difference between 'self.num_wheels' and num_wheels\n",
        "    # and the other parameters passed to the init function\n",
        "    # is that the object can access the variables with the \n",
        "    # 'self' symbol like so:\n",
        "    # Car.num_wheels\n",
        "\n",
        "    self.num_wheels = num_wheels\n",
        "    self.color = color\n",
        "    self.max_speed = max_speed\n",
        "    self.acceleration = acceleration\n",
        "\n",
        "  # objects can have functions so here we're creating a function that only the object\n",
        "  # can call like so:\n",
        "  # Car.drive()\n",
        "  def drive(self):\n",
        "    print(f\"This car is driving with an acceleration of {self.acceleration} mph^2 and will reach a max speed of {self.max_speed} mph in {self.max_speed/self.acceleration} seconds\")\n",
        "\n",
        "car = Automobile(4, \"blue\", 120, 10)"
      ],
      "execution_count": 0,
      "outputs": []
    },
    {
      "cell_type": "code",
      "metadata": {
        "id": "StWS-lS1B-vM",
        "colab_type": "code",
        "outputId": "9f67db39-cb6e-47ea-bad8-f153e2d191fd",
        "colab": {
          "base_uri": "https://localhost:8080/",
          "height": 85
        }
      },
      "source": [
        "print(car.num_wheels)\n",
        "print(car.color)\n",
        "print(car.max_speed)\n",
        "print(car.acceleration)\n",
        "car.drive()"
      ],
      "execution_count": 0,
      "outputs": []
    },
    {
      "cell_type": "markdown",
      "metadata": {
        "id": "yBuu10i3C3Fl",
        "colab_type": "text"
      },
      "source": [
        "Class Inheritance"
      ]
    },
    {
      "cell_type": "code",
      "metadata": {
        "id": "9LvaYQiTCFKP",
        "colab_type": "code",
        "colab": {}
      },
      "source": [
        "# Classes can be inherited meaning we can make a new class with some of the 'old' stuff \n",
        "# from the 'parent' class\n",
        "# Programmers like to describe this as a parent child relationship\n",
        "# Car (old/parent class)\n",
        "# \\\n",
        "#  \\\n",
        "#  Tesla (new/child class)\n",
        "class Tesla(Automobile):\n",
        "\n",
        "  def __init__(self, num_wheels, color, max_speed, acceleration, electric=True):\n",
        "\n",
        "    # This is refering to the Automobile class init function\n",
        "    super().__init__(num_wheels, color, max_speed, acceleration)\n",
        "\n",
        "    # now we can set our unique properties of a tesla car class\n",
        "    self.electric = electric\n",
        "\n",
        "tesla_car = Tesla(4, \"red\", 150, 20, True)"
      ],
      "execution_count": 0,
      "outputs": []
    },
    {
      "cell_type": "code",
      "metadata": {
        "id": "ScDSZvhQEqb_",
        "colab_type": "code",
        "colab": {}
      },
      "source": [
        "print(tesla_car.num_wheels)\n",
        "print(tesla_car.color)\n",
        "print(tesla_car.max_speed)\n",
        "print(tesla_car.acceleration)\n",
        "# see how the tesla car can use the drive function eventhough we didn't \n",
        "# write it in the Tesla class code\n",
        "tesla_car.drive()"
      ],
      "execution_count": 0,
      "outputs": []
    },
    {
      "cell_type": "markdown",
      "metadata": {
        "id": "5c0Ka6WrFXEV",
        "colab_type": "text"
      },
      "source": [
        "Methods: multi value return"
      ]
    },
    {
      "cell_type": "code",
      "metadata": {
        "id": "QSHZt2-hE5Nh",
        "colab_type": "code",
        "colab": {}
      },
      "source": [
        "def backpack_contents():\n",
        "  return 'pencil', 'book', 'eraser'\n",
        "\n",
        "obj1, obj2, obj3 = backpack_contents()"
      ],
      "execution_count": 0,
      "outputs": []
    },
    {
      "cell_type": "code",
      "metadata": {
        "id": "QdeCEqbcFqYf",
        "colab_type": "code",
        "colab": {}
      },
      "source": [
        "print(obj1, obj2, obj3)"
      ],
      "execution_count": 0,
      "outputs": []
    },
    {
      "cell_type": "markdown",
      "metadata": {
        "id": "aic7UvQQGeEO",
        "colab_type": "text"
      },
      "source": [
        "In keyword in python\n"
      ]
    },
    {
      "cell_type": "code",
      "metadata": {
        "id": "ZZx2QU_aFxcD",
        "colab_type": "code",
        "colab": {}
      },
      "source": [
        "available_food = ['apples', 'oranges', 'hotdogs', 'steak']\n",
        "if 'apples' in available_food:\n",
        "  print('there are apples')"
      ],
      "execution_count": 0,
      "outputs": []
    },
    {
      "cell_type": "markdown",
      "metadata": {
        "id": "QAkc7hoGG_Vt",
        "colab_type": "text"
      },
      "source": [
        "Advanced python: Yield"
      ]
    },
    {
      "cell_type": "code",
      "metadata": {
        "id": "aANrqh6oGckn",
        "colab_type": "code",
        "colab": {}
      },
      "source": [
        "from time import sleep\n",
        "\n",
        "# This is a generator... don't eagerly compute. Return to user as they ask for it...\n",
        "\n",
        "def compute():\n",
        "    for i in range(10):\n",
        "\n",
        "        # performs some computation\n",
        "\n",
        "        sleep(.5) # sleep models the complex computation\n",
        "\n",
        "        # give the value back to the user to do something\n",
        "        yield i # -> used for generators/sequencing\t\n",
        "'''\n",
        "Core concept and mental model of a generator\n",
        "Instead of eagerly computing values you give \n",
        "it to the user as they ask for it\n",
        "Let a little library code run, then\n",
        "let a little user code run\n",
        "Let a little library code run, then\n",
        "let a little user code run\n",
        "Interleave them\n",
        "Core conceptualization of generators\n",
        "'''\n",
        "\n",
        "for val in compute():\n",
        "    # user do what ever they want to do with value\n",
        "    print(val)"
      ],
      "execution_count": 0,
      "outputs": []
    },
    {
      "cell_type": "code",
      "metadata": {
        "id": "3APOQAV1HB0I",
        "colab_type": "code",
        "colab": {}
      },
      "source": [
        ""
      ],
      "execution_count": 0,
      "outputs": []
    }
  ]
}