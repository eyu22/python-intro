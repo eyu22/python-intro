{
 "cells": [
  {
   "cell_type": "markdown",
   "metadata": {
    "colab_type": "text",
    "id": "HUbeBkUc9-kM"
   },
   "source": [
    "Python Intro!\n",
    "\n",
    "This short notebook will show you some of the basics of python."
   ]
  },
  {
   "cell_type": "markdown",
   "metadata": {
    "colab_type": "text",
    "id": "IKa1t2AB9-kO"
   },
   "source": [
    "Creating a variable that holds the integer 5"
   ]
  },
  {
   "cell_type": "code",
   "execution_count": 0,
   "metadata": {
    "colab": {},
    "colab_type": "code",
    "id": "mJorPGzP9-kQ"
   },
   "outputs": [],
   "source": [
    "variable = 5\n",
    "print(variable)"
   ]
  },
  {
   "cell_type": "markdown",
   "metadata": {
    "colab_type": "text",
    "id": "B7K4i8YP9-kX"
   },
   "source": [
    "Checking the type of the variable, this will show that the variable is an integer"
   ]
  },
  {
   "cell_type": "code",
   "execution_count": 0,
   "metadata": {
    "colab": {},
    "colab_type": "code",
    "id": "jf4D7aUT9-kY"
   },
   "outputs": [],
   "source": [
    "print(type(variable))"
   ]
  },
  {
   "cell_type": "markdown",
   "metadata": {
    "colab_type": "text",
    "id": "50HWD_nd9-ke"
   },
   "source": [
    "Next we will check some other data types that are commonly used in python"
   ]
  },
  {
   "cell_type": "code",
   "execution_count": 0,
   "metadata": {
    "colab": {},
    "colab_type": "code",
    "id": "KAAK9gjW9-ki"
   },
   "outputs": [],
   "source": [
    "integer = 7\n",
    "floatingPoint = 2.5\n",
    "string = 'hello world'\n",
    "boolean = True\n",
    "lists = [3,1,4,1,5,9,2,6]\n",
    "dictionary = {\n",
    "    'key':'value'\n",
    "}"
   ]
  },
  {
   "cell_type": "code",
   "execution_count": 0,
   "metadata": {
    "colab": {},
    "colab_type": "code",
    "id": "_f-2vm_O9-kp"
   },
   "outputs": [],
   "source": [
    "print(type(integer))\n",
    "print(type(floatingPoint))\n",
    "print(type(string))\n",
    "print(type(boolean))\n",
    "print(type(lists))\n",
    "print(type(dictionary))"
   ]
  },
  {
   "cell_type": "markdown",
   "metadata": {
    "colab_type": "text",
    "id": "sPaFfqZh9-ks"
   },
   "source": [
    "Integers are all numbers that are not decimals excluding imaginary or complex and Floats are all numbers excluding imaginary or complex. All integers can be floats but not all floats can be integers unless they are rounded."
   ]
  },
  {
   "cell_type": "markdown",
   "metadata": {
    "colab_type": "text",
    "id": "7QbMuSyF9-ku"
   },
   "source": [
    "Here is code showing how integers and floats can be used and changed to the opposite:"
   ]
  },
  {
   "cell_type": "markdown",
   "metadata": {
    "colab_type": "text",
    "id": "32lP90Pj9-kv"
   },
   "source": [
    "Import math module"
   ]
  },
  {
   "cell_type": "code",
   "execution_count": 0,
   "metadata": {
    "colab": {},
    "colab_type": "code",
    "id": "FcTXVGPF9-kw"
   },
   "outputs": [],
   "source": [
    "import math"
   ]
  },
  {
   "cell_type": "markdown",
   "metadata": {
    "colab_type": "text",
    "id": "gv6ovT7U9-k0"
   },
   "source": [
    "Create an integer and float variable"
   ]
  },
  {
   "cell_type": "code",
   "execution_count": 0,
   "metadata": {
    "colab": {},
    "colab_type": "code",
    "id": "LIkAKlvt9-k1"
   },
   "outputs": [],
   "source": [
    "integer = 99\n",
    "floatVersion = float(integer)\n",
    "print(integer)\n",
    "print(floatVersion)"
   ]
  },
  {
   "cell_type": "markdown",
   "metadata": {
    "colab_type": "text",
    "id": "bfCT4CYN9-k5"
   },
   "source": [
    "Check if the floats are integers"
   ]
  },
  {
   "cell_type": "code",
   "execution_count": 0,
   "metadata": {
    "colab": {},
    "colab_type": "code",
    "id": "zXCMwOzO9-k6"
   },
   "outputs": [],
   "source": [
    "if floatVersion.is_integer():\n",
    "    print('This float is an int!')\n",
    "else:\n",
    "    print('This float is not an int')\n",
    "\n",
    "otherVar = 35.3521\n",
    "    \n",
    "if otherVar.is_integer():\n",
    "    print('This float is an int!')\n",
    "else:\n",
    "    print('This float is not an int')"
   ]
  },
  {
   "cell_type": "markdown",
   "metadata": {
    "colab_type": "text",
    "id": "-MWd6BIO9-k-"
   },
   "source": [
    "Convert floats to ints in 4 different methods"
   ]
  },
  {
   "cell_type": "code",
   "execution_count": 0,
   "metadata": {
    "colab": {},
    "colab_type": "code",
    "id": "7Y4E55Sy9-k_"
   },
   "outputs": [],
   "source": [
    "print(int(657.99999))\n",
    "print(round(657.9999))\n",
    "\n",
    "print(math.ceil(124.5))\n",
    "print(math.floor(124.5))"
   ]
  },
  {
   "cell_type": "markdown",
   "metadata": {
    "colab_type": "text",
    "id": "L6ubZrZY9-lC"
   },
   "source": [
    "Next is some code on strings"
   ]
  },
  {
   "cell_type": "markdown",
   "metadata": {
    "colab_type": "text",
    "id": "KfY89v3F9-lC"
   },
   "source": [
    "Substrings/Slicing strings"
   ]
  },
  {
   "cell_type": "code",
   "execution_count": 0,
   "metadata": {
    "colab": {},
    "colab_type": "code",
    "id": "pq43lFy-9-lD"
   },
   "outputs": [],
   "source": [
    "string = 'Hello World'\n",
    "multi = '''\n",
    "Multi Line text!\n",
    "\n",
    "sad\n",
    "a\n",
    "da\n",
    "d\n",
    "s\n",
    "ad\n",
    "\n",
    "\n",
    "\n",
    "gdgsgds\n",
    "\n",
    "s\n",
    "'''\n",
    "# printing from the second to fourth character excluding the fourth character\n",
    "print(string[2:4])\n",
    "# printing every other character\n",
    "print(string[::2])\n",
    "# reviersing the string\n",
    "print(string[::-1])"
   ]
  },
  {
   "cell_type": "markdown",
   "metadata": {
    "colab_type": "text",
    "id": "5Ss-GQyw9-lG"
   },
   "source": [
    "converting items to strings"
   ]
  },
  {
   "cell_type": "code",
   "execution_count": 2,
   "metadata": {
    "colab": {},
    "colab_type": "code",
    "id": "5-6uI5O49-lG"
   },
   "outputs": [],
   "source": [
    "print(type(str(5453364)))\n",
    "print(str(5453364))\n",
    "print(str(987.87))\n",
    "\n",
    "# F-strings new to python 3.6 and above\n",
    "# This allows you to input variables of any type and do simple operations like math\n",
    "number = 5\n",
    "other = 129.389\n",
    "print(f'Here is the first number {number}, here is the second number {other}, here is the sum {number + other}')"
   ]
  },
  {
   "cell_type": "markdown",
   "metadata": {
    "colab_type": "text",
    "id": "zm2eiWm4-sqa"
   },
   "source": [
    "Calling methods"
   ]
  },
  {
   "cell_type": "code",
   "execution_count": 0,
   "metadata": {
    "colab": {},
    "colab_type": "code",
    "id": "hPbFj-99-Ukk"
   },
   "outputs": [],
   "source": [
    "# This is a function\n",
    "def exponent(base, power):\n",
    "\n",
    "  # another cool trick that python has is ** which is the operation to do exponents\n",
    "  ex = base ** power\n",
    "\n",
    "  # every function has a return statement,\n",
    "  # sometimes you don't need to type out return\n",
    "  # because you're not returning anything\n",
    "  return ex\n",
    "\n",
    "# this is where we call a function to run a piece of code\n",
    "# whenever we need to use it\n",
    "answer = exponent(2, 10)\n",
    "answer"
   ]
  },
  {
   "cell_type": "markdown",
   "metadata": {
    "colab_type": "text",
    "id": "2I2xseoPCr4s"
   },
   "source": [
    "Making classes (the blueprint for objects)\n"
   ]
  },
  {
   "cell_type": "code",
   "execution_count": 0,
   "metadata": {
    "colab": {},
    "colab_type": "code",
    "id": "xuKfuvoG_Ws1"
   },
   "outputs": [],
   "source": [
    "# Car\n",
    "class Automobile(object):\n",
    "\n",
    "  # the init has parameters so that\n",
    "  # we can set values of the class on our own\n",
    "  # python will require that we use the 'self'\n",
    "  # syntax, a special symbol \n",
    "  def __init__(self, num_wheels, color, max_speed, acceleration):\n",
    "\n",
    "    # this is where we set the properties of a class\n",
    "    # which in this case is the properties for a car\n",
    "    # the difference between 'self.num_wheels' and num_wheels\n",
    "    # and the other parameters passed to the init function\n",
    "    # is that the object can access the variables with the \n",
    "    # 'self' symbol like so:\n",
    "    # Car.num_wheels\n",
    "\n",
    "    self.num_wheels = num_wheels\n",
    "    self.color = color\n",
    "    self.max_speed = max_speed\n",
    "    self.acceleration = acceleration\n",
    "\n",
    "  # objects can have functions so here we're creating a function that only the object\n",
    "  # can call like so:\n",
    "  # Car.drive()\n",
    "  def drive(self):\n",
    "    print(f\"This car is driving with an acceleration of {self.acceleration} mph^2 and will reach a max speed of {self.max_speed} mph in {self.max_speed/self.acceleration} seconds\")\n",
    "\n",
    "car = Automobile(4, \"blue\", 120, 10)"
   ]
  },
  {
   "cell_type": "code",
   "execution_count": 0,
   "metadata": {
    "colab": {
     "base_uri": "https://localhost:8080/",
     "height": 85
    },
    "colab_type": "code",
    "id": "StWS-lS1B-vM",
    "outputId": "9f67db39-cb6e-47ea-bad8-f153e2d191fd"
   },
   "outputs": [],
   "source": [
    "print(car.num_wheels)\n",
    "print(car.color)\n",
    "print(car.max_speed)\n",
    "print(car.acceleration)\n",
    "car.drive()"
   ]
  },
  {
   "cell_type": "markdown",
   "metadata": {
    "colab_type": "text",
    "id": "yBuu10i3C3Fl"
   },
   "source": [
    "Class Inheritance"
   ]
  },
  {
   "cell_type": "code",
   "execution_count": 0,
   "metadata": {
    "colab": {},
    "colab_type": "code",
    "id": "9LvaYQiTCFKP"
   },
   "outputs": [],
   "source": [
    "# Classes can be inherited meaning we can make a new class with some of the 'old' stuff \n",
    "# from the 'parent' class\n",
    "# Programmers like to describe this as a parent child relationship\n",
    "# Car (old/parent class)\n",
    "# \\\n",
    "#  \\\n",
    "#  Tesla (new/child class)\n",
    "class Tesla(Automobile):\n",
    "\n",
    "  def __init__(self, num_wheels, color, max_speed, acceleration, electric=True):\n",
    "\n",
    "    # This is refering to the Automobile class init function\n",
    "    super().__init__(num_wheels, color, max_speed, acceleration)\n",
    "\n",
    "    # now we can set our unique properties of a tesla car class\n",
    "    self.electric = electric\n",
    "\n",
    "tesla_car = Tesla(4, \"red\", 150, 20, True)"
   ]
  },
  {
   "cell_type": "code",
   "execution_count": 0,
   "metadata": {
    "colab": {},
    "colab_type": "code",
    "id": "ScDSZvhQEqb_"
   },
   "outputs": [],
   "source": [
    "print(tesla_car.num_wheels)\n",
    "print(tesla_car.color)\n",
    "print(tesla_car.max_speed)\n",
    "print(tesla_car.acceleration)\n",
    "# see how the tesla car can use the drive function eventhough we didn't \n",
    "# write it in the Tesla class code\n",
    "tesla_car.drive()"
   ]
  },
  {
   "cell_type": "markdown",
   "metadata": {
    "colab_type": "text",
    "id": "5c0Ka6WrFXEV"
   },
   "source": [
    "Methods: multi value return"
   ]
  },
  {
   "cell_type": "code",
   "execution_count": 0,
   "metadata": {
    "colab": {},
    "colab_type": "code",
    "id": "QSHZt2-hE5Nh"
   },
   "outputs": [],
   "source": [
    "def backpack_contents():\n",
    "  return 'pencil', 'book', 'eraser'\n",
    "\n",
    "obj1, obj2, obj3 = backpack_contents()"
   ]
  },
  {
   "cell_type": "code",
   "execution_count": 0,
   "metadata": {
    "colab": {},
    "colab_type": "code",
    "id": "QdeCEqbcFqYf"
   },
   "outputs": [],
   "source": [
    "print(obj1, obj2, obj3)"
   ]
  },
  {
   "cell_type": "markdown",
   "metadata": {
    "colab_type": "text",
    "id": "aic7UvQQGeEO"
   },
   "source": [
    "In keyword in python\n"
   ]
  },
  {
   "cell_type": "code",
   "execution_count": 0,
   "metadata": {
    "colab": {},
    "colab_type": "code",
    "id": "ZZx2QU_aFxcD"
   },
   "outputs": [],
   "source": [
    "available_food = ['apples', 'oranges', 'hotdogs', 'steak']\n",
    "if 'apples' in available_food:\n",
    "  print('there are apples')"
   ]
  },
  {
   "cell_type": "markdown",
   "metadata": {
    "colab_type": "text",
    "id": "QAkc7hoGG_Vt"
   },
   "source": [
    "Advanced python: Yield"
   ]
  },
  {
   "cell_type": "code",
   "execution_count": 0,
   "metadata": {
    "colab": {},
    "colab_type": "code",
    "id": "aANrqh6oGckn"
   },
   "outputs": [],
   "source": [
    "from time import sleep\n",
    "\n",
    "# This is a generator... don't eagerly compute. Return to user as they ask for it...\n",
    "\n",
    "def compute():\n",
    "    for i in range(10):\n",
    "\n",
    "        # performs some computation\n",
    "\n",
    "        sleep(.5) # sleep models the complex computation\n",
    "\n",
    "        # give the value back to the user to do something\n",
    "        yield i # -> used for generators/sequencing\t\n",
    "'''\n",
    "Core concept and mental model of a generator\n",
    "Instead of eagerly computing values you give \n",
    "it to the user as they ask for it\n",
    "Let a little library code run, then\n",
    "let a little user code run\n",
    "Let a little library code run, then\n",
    "let a little user code run\n",
    "Interleave them\n",
    "Core conceptualization of generators\n",
    "'''\n",
    "\n",
    "for val in compute():\n",
    "    # user do what ever they want to do with value\n",
    "    print(val)"
   ]
  },
  {
   "cell_type": "markdown",
   "metadata": {
    "colab": {},
    "colab_type": "code",
    "id": "3APOQAV1HB0I"
   },
   "source": [
    "Loops!"
   ]
  },
  {
   "cell_type": "code",
   "execution_count": null,
   "metadata": {},
   "outputs": [],
   "source": [
    "# Iterate (go through each item) over items\n",
    "\n",
    "# Iterate over a list\n",
    "pythonList = [3, 1, 4, 1, 5, 9, 2, 6]\n",
    "for item in pythonList:\n",
    "    print(item)\n",
    "    \n",
    "print('******')\n",
    "    \n",
    "for i in range(len(pythonList)):\n",
    "    print(pythonList[i])\n",
    "\n",
    "print('******')\n",
    "    \n",
    "count = 0\n",
    "while count < len(pythonList):\n",
    "    print(pythonList[count])\n",
    "    count += 1"
   ]
  },
  {
   "cell_type": "code",
   "execution_count": 4,
   "metadata": {},
   "outputs": [
    {
     "name": "stdout",
     "output_type": "stream",
     "text": [
      "H\n",
      "e\n",
      "l\n",
      "l\n",
      "o\n",
      " \n",
      "W\n",
      "o\n",
      "r\n",
      "l\n",
      "d\n",
      "H\n",
      "e\n",
      "l\n",
      "l\n",
      "o\n"
     ]
    }
   ],
   "source": [
    "# Go through each character in a string or part of a string\n",
    "string = 'Hello World'\n",
    "for letter in string:\n",
    "    print(letter)\n",
    "\n",
    "print('******')\n",
    "    \n",
    "for letter in string[:5]:\n",
    "    print(letter)"
   ]
  },
  {
   "cell_type": "code",
   "execution_count": null,
   "metadata": {},
   "outputs": [],
   "source": [
    "# Go through each character in a string or part of a string\n",
    "string = 'Hello World'\n",
    "for letter in string:\n",
    "    print(letter)\n",
    "\n",
    "print('******')\n",
    "    \n",
    "for letter in string[:5]:\n",
    "    print(letter)"
   ]
  },
  {
   "cell_type": "code",
   "execution_count": null,
   "metadata": {},
   "outputs": [],
   "source": [
    "# infitite loop / one that ends from the break statment\n",
    "count = 0\n",
    "while True:\n",
    "    if count >= 500:\n",
    "        break\n",
    "    print(count)\n",
    "    count += 1"
   ]
  },
  {
   "cell_type": "markdown",
   "metadata": {},
   "source": [
    "Useful python libraries (pre installed)"
   ]
  },
  {
   "cell_type": "code",
   "execution_count": 5,
   "metadata": {},
   "outputs": [],
   "source": [
    "import math # for more complex math\n",
    "import random # for making things random\n",
    "import time # for dealing with time, or delaying things\n",
    "import datetime # for date and time features\n",
    "import os # for working with your computer, ex: running terminal commands or working with file paths"
   ]
  },
  {
   "cell_type": "code",
   "execution_count": null,
   "metadata": {},
   "outputs": [],
   "source": [
    "print(random.randint(100000,999999))\n",
    "print(random.choice(['this one?','maybe this one','its all random','as random as a computer can be']))\n",
    "print(random.randrange(200))\n",
    "\n",
    "# Read more > https://docs.python.org/3/library/random.html"
   ]
  },
  {
   "cell_type": "code",
   "execution_count": null,
   "metadata": {},
   "outputs": [],
   "source": [
    "# Being honest really only use time for delaying code\n",
    "print('Here')\n",
    "time.sleep(5.5) # delay for 5 and 1/2 seconds\n",
    "print('Done')"
   ]
  },
  {
   "cell_type": "code",
   "execution_count": 6,
   "metadata": {},
   "outputs": [],
   "source": [
    "print(datetime.datetime.now()) # Now\n",
    "print(datetime.datetime.now().strftime('%A %B %-d, %Y %-I:%M:%S')) # Now formated using strftime > https://strftime.org/\n",
    "\n",
    "now = datetime.datetime.now()\n",
    "lastSchoolDay = datetime.datetime(year=2020, month=6, day=2, hour=3, minute=30) \n",
    "# Create a datetime object, can include just time just dates or both\n",
    "print(now - lastSchoolDay) \n",
    "# prints days, then exact time since that datetime object\n",
    "\n",
    "# Super powerful and useful library\n",
    "# When used with other librarys helps makes modern day websites and apps possible\n",
    "# Read more here > https://docs.python.org/3/library/datetime.html\n",
    "# This can be useful too \n",
    "# (Dealing with timezones, this helps if you need your app to run on a certain timezone or need to account for daylight savings) \n",
    "# > http://pytz.sourceforge.net/"
   ]
  },
  {
   "cell_type": "markdown",
   "metadata": {},
   "source": [
    "Os can be used for many useful things when working on apps in python\n",
    "It is great at handling files and things like that\n",
    "but when using a notebook like this using os and things like that isn't not ideal and can break"
   ]
  },
  {
   "cell_type": "markdown",
   "metadata": {},
   "source": [
    "You can also read or make files with python, but again not great when working with notebooks"
   ]
  },
  {
   "cell_type": "code",
   "execution_count": null,
   "metadata": {},
   "outputs": [],
   "source": [
    "# This code is commented (won't be run) out but is the code needed for reading and writing files\n",
    "\n",
    "#with open('file.txt', 'r') as readFile:\n",
    "#    lines = readFile.readlines() # https://www.w3schools.com/python/ref_file_readlines.asp\n",
    "\n",
    "# read all the lines of a file\n",
    "#for line in lines:\n",
    "#    print(line)\n",
    "\n",
    "thing = '''\n",
    "Hello There,\n",
    "\n",
    "This a long message\n",
    "\n",
    "with many lines!\n",
    "'''\n",
    "\n",
    "#with open('file.txt', 'w') as writeFile:\n",
    "#    writeFile.write(thing)\n",
    "\n",
    "# There are many ways to do the above code and can be used with json and other files."
   ]
  }
 ],
 "metadata": {
  "colab": {
   "name": "PythonBasics.ipynb",
   "provenance": []
  },
  "kernelspec": {
   "display_name": "Python 3",
   "language": "python",
   "name": "python3"
  },
  "language_info": {
   "codemirror_mode": {
    "name": "ipython",
    "version": 3
   },
   "file_extension": ".py",
   "mimetype": "text/x-python",
   "name": "python",
   "nbconvert_exporter": "python",
   "pygments_lexer": "ipython3",
   "version": "3.7.7"
  }
 },
 "nbformat": 4,
 "nbformat_minor": 1
}
